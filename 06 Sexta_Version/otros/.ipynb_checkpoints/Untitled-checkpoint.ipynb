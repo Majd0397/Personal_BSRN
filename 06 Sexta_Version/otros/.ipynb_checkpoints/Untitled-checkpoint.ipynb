{
 "cells": [
  {
   "cell_type": "code",
   "execution_count": 30,
   "id": "a3c03de6",
   "metadata": {},
   "outputs": [],
   "source": [
    "import mysql.connector\n",
    "import tkinter as tk\n",
    "from tkinter import messagebox\n",
    "import pandas as pd"
   ]
  },
  {
   "cell_type": "code",
   "execution_count": 98,
   "id": "a3118409",
   "metadata": {},
   "outputs": [],
   "source": [
    "\n",
    "# Crear una nueva ventana\n",
    "window_ = tk.Tk()\n",
    "window_.minsize(width=140,height=200)\n",
    "window_.title(\"Ingresar datos\")\n",
    "\n",
    "base_sql=tk.StringVar()\n",
    "tabla_sql=tk.StringVar()\n",
    "\n",
    "# Crear etiquetas y campos de entrada\n",
    "label_user = tk.Label(window_, text=\"Usuario:\")\n",
    "label_user.grid(row=1,padx=10, pady=5)\n",
    "field_user = tk.Entry(window_)\n",
    "field_user.grid(row=2,padx=10, pady=5)\n",
    "\n",
    "label_password = tk.Label(window_, text=\"Contraseña:\")\n",
    "label_password.grid(row=3,padx=10, pady=5)\n",
    "field_password = tk.Entry(window_, show=\"*\")\n",
    "field_password.grid(row=4,padx=10, pady=5)\n",
    "\n"
   ]
  },
  {
   "cell_type": "code",
   "execution_count": 99,
   "id": "fc0a6ee2",
   "metadata": {
    "scrolled": true
   },
   "outputs": [
    {
     "name": "stdout",
     "output_type": "stream",
     "text": [
      "('bsrn_2019',)\n",
      "('bsrn_2020',)\n",
      "('bsrn_2020_local',)\n",
      "('bsrn_dic_20_ene_21',)\n",
      "('bsrn_resp_15_03_2021',)\n",
      "('bsrn_resp_15_03_2021_test',)\n",
      "('bsrn_respaldo_ene_2021',)\n",
      "('bsrn_respaldo_julio',)\n",
      "('bsrn_respaldo_mayo',)\n",
      "('bsrn_respaldo_octubre',)\n",
      "('bsrn_test',)\n",
      "('bsrn_2021',)\n",
      "('bsrn_2021_null',)\n",
      "('bsrn_all',)\n",
      "('bsrn_jan_march',)\n",
      "('bsrn_ori',)\n",
      "('bsrn_resp2',)\n",
      "('bsrn_resp_19_10_2021',)\n",
      "('bsrn_2022',)\n",
      "('bsrn_2022_mod',)\n",
      "('bsrn_2022_null',)\n",
      "('bsrn_2022_ori',)\n",
      "('bsrn_20_09_2022',)\n",
      "('bsrn_mod_08_08_2022',)\n",
      "('bsrn_ori',)\n",
      "('bsrn_ori_07_2022',)\n",
      "('bsrn_2023',)\n",
      "('bsrn_2023_null',)\n"
     ]
    }
   ],
   "source": [
    "\n",
    "    \n",
    "def get_bases():\n",
    "    \"\"\"\n",
    "    Funcion para obtener las bases disponibles\n",
    "    \"\"\"\n",
    "    global user \n",
    "    global password\n",
    "    \n",
    "    user = field_user.get()\n",
    "    password = field_password.get()\n",
    "    \n",
    "    config = {\n",
    "    'user': user,\n",
    "    'password': password,\n",
    "    'host': '132.248.182.174',\n",
    "    'port':3306\n",
    "    }\n",
    "\n",
    "    conn = mysql.connector.connect(**config)\n",
    "    cursor=conn.cursor()\n",
    "    query= \"SHOW DATABASES\"\n",
    "\n",
    "    cursor.execute(query)\n",
    "    # Obtener los resultados\n",
    "    results = cursor.fetchall()\n",
    "\n",
    "    bases = []\n",
    "    for i in results:\n",
    "        if i[0][0:5]==\"BSRN_\":\n",
    "            bases.append(i[0])\n",
    "\n",
    "    # Imprimir los resultados\n",
    "    for option,base in enumerate(bases):\n",
    "        tk.Radiobutton(window_,\n",
    "                      text=base,\n",
    "                      value=base,\n",
    "                      variable=base_sql,\n",
    "                      command=lambda: get_tables(conn,cursor),\n",
    "                      padx=5,\n",
    "                      pady=5).grid(row=option+6,pady=5)\n",
    "    return conn, cursor\n",
    "        \n",
    "def get_tables(conn,cursor):\n",
    "    base=base_sql.get()\n",
    "    query= \"USE \" + base\n",
    "    cursor.execute(query)\n",
    "    query=\"SHOW tables\"\n",
    "    cursor.execute(query)\n",
    "    # Obtener los resultados\n",
    "    results = cursor.fetchall()\n",
    "    for i in results:\n",
    "        if i[0][0:5]==\"bsrn_\":\n",
    "            print(i)\n",
    "            \n",
    "    for option,base in enumerate(bases):\n",
    "        tk.Radiobutton(window_,\n",
    "                      text=tables,\n",
    "                      value=tables,\n",
    "                      variable=tabla_sql,\n",
    "                      padx=5,\n",
    "                      pady=5).grid(row=option+6,pady=5)\n",
    "    \n",
    "\n",
    "# Crear el botón \"Conectarse\"\n",
    "button_accept = tk.Button(window_, text=\"Conectarse\", command=get_bases)\n",
    "button_accept.grid(row=5,padx=10, pady=5)\n",
    "\n",
    "window_.mainloop()\n",
    "\n",
    "\n",
    "\n",
    "\n",
    "\n",
    "        \n",
    "\n"
   ]
  },
  {
   "cell_type": "code",
   "execution_count": 21,
   "id": "36711e53",
   "metadata": {},
   "outputs": [
    {
     "ename": "NameError",
     "evalue": "name 'bases' is not defined",
     "output_type": "error",
     "traceback": [
      "\u001b[1;31m---------------------------------------------------------------------------\u001b[0m",
      "\u001b[1;31mNameError\u001b[0m                                 Traceback (most recent call last)",
      "Cell \u001b[1;32mIn[21], line 1\u001b[0m\n\u001b[1;32m----> 1\u001b[0m bases\n",
      "\u001b[1;31mNameError\u001b[0m: name 'bases' is not defined"
     ]
    }
   ],
   "source": [
    "bases"
   ]
  },
  {
   "cell_type": "code",
   "execution_count": 16,
   "id": "719dad78",
   "metadata": {},
   "outputs": [
    {
     "data": {
      "text/plain": [
       "'BSRN2'"
      ]
     },
     "execution_count": 16,
     "metadata": {},
     "output_type": "execute_result"
    }
   ],
   "source": [
    "a[0:5]"
   ]
  },
  {
   "cell_type": "code",
   "execution_count": null,
   "id": "1fb8c5ec",
   "metadata": {},
   "outputs": [],
   "source": []
  },
  {
   "cell_type": "code",
   "execution_count": 3,
   "id": "9c129e37",
   "metadata": {},
   "outputs": [],
   "source": [
    "\n",
    "label_base = tk.Label(window_, text=\"Ingresa la base de datos deseada:\")\n",
    "label_base.pack()\n",
    "field_base = tk.Entry(window_)\n",
    "field_base.pack()\n",
    "\n",
    "label_table = tk.Label(window_, text=\"Ingresa la tabla deseada:\")\n",
    "label_table.pack()\n",
    "field_table = tk.Entry(window_)\n",
    "field_table.pack()\n",
    "\n",
    "label_month = tk.Label(window_, text=\"Ingresa el mes:\")\n",
    "label_month.pack()\n",
    "fiedl_month = tk.Entry(window_)\n",
    "fiedl_month.pack()\n",
    "\n",
    "# Función para manejar el botón \"Aceptar\"\n",
    "def aceptar():\n",
    "    global user\n",
    "    global password\n",
    "    global mounth_\n",
    "    global base_sql\n",
    "    global tabla_sql\n",
    "        \n",
    "    user = field_user.get()\n",
    "    password = field_password.get()\n",
    "    mounth_ = fiedl_month.get()\n",
    "    base_sql = field_base.get()\n",
    "    tabla_sql = field_table.get()\n",
    "\n",
    "\n",
    "    window_.destroy()"
   ]
  },
  {
   "cell_type": "code",
   "execution_count": null,
   "id": "875802dd",
   "metadata": {},
   "outputs": [],
   "source": [
    "# Crear el botón \"Aceptar\"\n",
    "button_accept = tk.Button(window_, text=\"Aceptar\", command=aceptar)\n",
    "button_accept.pack()\n",
    "\n",
    "window_.mainloop()\n",
    "\n",
    "# Importamos el DataFrame\n",
    "# Configuración de la conexión\n",
    "config = {\n",
    "    'user': user,\n",
    "    'password': password,\n",
    "    'host': '132.248.182.174',\n",
    "    'database': base_sql,\n",
    "    'port':3306\n",
    "}\n",
    "\n",
    "\n",
    "# Conexión al servidor MySQL\n",
    "\n",
    "try:\n",
    "    conn = mysql.connector.connect(**config)\n",
    "    if mounth_!=\"1\":\n",
    "        query = \"SELECT * FROM \" + tabla_sql + \" where (month(timestamp)=\" + mounth_ + \" or (month(timestamp)=\" + str(int(mounth_)-1) + \" and hour(timestamp)>17)\" + \")\" +\" and year(timestamp)=\" + str(int(base_sql[-4:]))\n",
    "    elif mounth_==\"1\":\n",
    "        query = \"select * from \" + tabla_sql + \" where (month(timestamp)=12 and year(timestamp)=\"  + str(int(base_sql[-4:])-1) + \" and day(timestamp)=31 and hour(timestamp)>17) or (month(timestamp)=1 and year(timestamp)=\" +  str(int(base_sql[-4:])) + \")\"\n",
    "    df = pd.read_sql(query, conn)\n",
    "    conn.close()\n",
    "    print('Conexión exitosa')\n",
    "    \n",
    "except mysql.connector.Error as err:\n",
    "    print('Error de conexión a la base de datos:', err)"
   ]
  },
  {
   "cell_type": "code",
   "execution_count": null,
   "id": "2c8e7707",
   "metadata": {},
   "outputs": [],
   "source": []
  },
  {
   "cell_type": "code",
   "execution_count": null,
   "id": "6039fdbe",
   "metadata": {},
   "outputs": [],
   "source": []
  },
  {
   "cell_type": "code",
   "execution_count": null,
   "id": "b1accf7c",
   "metadata": {},
   "outputs": [],
   "source": []
  }
 ],
 "metadata": {
  "kernelspec": {
   "display_name": "Python 3 (ipykernel)",
   "language": "python",
   "name": "python3"
  },
  "language_info": {
   "codemirror_mode": {
    "name": "ipython",
    "version": 3
   },
   "file_extension": ".py",
   "mimetype": "text/x-python",
   "name": "python",
   "nbconvert_exporter": "python",
   "pygments_lexer": "ipython3",
   "version": "3.11.3"
  }
 },
 "nbformat": 4,
 "nbformat_minor": 5
}
